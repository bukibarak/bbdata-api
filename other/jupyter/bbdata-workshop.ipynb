{
 "cells": [
  {
   "cell_type": "markdown",
   "metadata": {
    "id": "OZBWUpwBSkRP"
   },
   "source": [
    "# Imports"
   ]
  },
  {
   "cell_type": "code",
   "execution_count": 1,
   "metadata": {
    "executionInfo": {
     "elapsed": 383,
     "status": "ok",
     "timestamp": 1636470265234,
     "user": {
      "displayName": "Frédéric Montet",
      "photoUrl": "https://lh3.googleusercontent.com/a-/AOh14GgAyxAKX7KoQcjLBHxEjCcEPfV0sBDCw24p5zq7SQ=s64",
      "userId": "03507225113592138259"
     },
     "user_tz": -60
    },
    "id": "93oYFXI-Sdyj"
   },
   "outputs": [],
   "source": [
    "#from google.colab import drive\n",
    "from datetime import datetime\n",
    "import pandas as pd\n",
    "import requests"
   ]
  },
  {
   "cell_type": "markdown",
   "metadata": {
    "id": "1lJlnGCg2cHr"
   },
   "source": [
    "# BBData Workshop\n",
    "\n",
    "BBData est une plateforme de stockage de séries temporelles. Ce genre de données est définie comme étant une suite de données. Chaque élément de cette suite est composé d'un indice temporel et d'une valeur.\n",
    "\n",
    "https://fr.wikipedia.org/wiki/S%C3%A9rie_temporelle\n"
   ]
  },
  {
   "cell_type": "markdown",
   "metadata": {
    "id": "ga4A0xDmmjOM"
   },
   "source": [
    "## Concepts\n",
    "\n",
    "Quatre éléments à retenir, du côté utilisateur : \n",
    "\n",
    "  - User\n",
    "  - User Groups\n",
    "\n",
    "Et du côté capteur :\n",
    "  \n",
    "  - Object Group\n",
    "  - Object\n",
    "\n",
    "### Liens\n",
    "\n",
    "- https://daplab.gitlab.io/bbdata-docs/resources/rights.png\n",
    "- https://daplab.gitlab.io/bbdata-docs/conception/\n"
   ]
  },
  {
   "cell_type": "markdown",
   "metadata": {
    "id": "B4TbTOMJmmiw"
   },
   "source": [
    "## Création de l'infrastructure de stockage\n",
    "\n",
    "Avant de stocker de la donnée dans BBData, il est bon de voir comment le faire avec un administrateur; Jonathan Rial ou moi. Nous sommes là pour vous aider. \n",
    "\n",
    "L'installation est simple et prend quelques minutes. Pour résumer, voici les différentes étapes:\n",
    "\n",
    "1. Créer un User Group pour le projet en question\n",
    "2. Associer (éventuellement créer) des utilisateurs à ce User Group\n",
    "3. Créer un Object Group et y associer un User Group\n",
    "4. Créer des Object et les associers à un Object Group\n",
    "\n",
    "Une fois cela fait, il est possible d'utiliser BBData pour le stockage et l'acquisition de donnée.\n",
    "\n",
    "Aussi, dans le cas ou il y a une quantité importante de capteurs, il est possible de scripter ce processus. "
   ]
  },
  {
   "cell_type": "markdown",
   "metadata": {
    "id": "KEYIcw3CT6SW"
   },
   "source": [
    "Chargons les données avec Pandas"
   ]
  },
  {
   "cell_type": "code",
   "execution_count": 2,
   "metadata": {
    "executionInfo": {
     "elapsed": 1650,
     "status": "ok",
     "timestamp": 1636470318148,
     "user": {
      "displayName": "Frédéric Montet",
      "photoUrl": "https://lh3.googleusercontent.com/a-/AOh14GgAyxAKX7KoQcjLBHxEjCcEPfV0sBDCw24p5zq7SQ=s64",
      "userId": "03507225113592138259"
     },
     "user_tz": -60
    },
    "id": "DJ2c9FVyMaYr"
   },
   "outputs": [],
   "source": [
    "data = pd.read_csv(\"myfile.csv\")\n",
    "#data = data[101:200] # TODO - delete this line"
   ]
  },
  {
   "cell_type": "code",
   "execution_count": 3,
   "metadata": {
    "colab": {
     "base_uri": "https://localhost:8080/"
    },
    "executionInfo": {
     "elapsed": 3,
     "status": "ok",
     "timestamp": 1636470319907,
     "user": {
      "displayName": "Frédéric Montet",
      "photoUrl": "https://lh3.googleusercontent.com/a-/AOh14GgAyxAKX7KoQcjLBHxEjCcEPfV0sBDCw24p5zq7SQ=s64",
      "userId": "03507225113592138259"
     },
     "user_tz": -60
    },
    "id": "BxTPf-PFMsrP",
    "outputId": "81826aa8-e1b1-4d80-b2ec-b868b1a71e02",
    "scrolled": true
   },
   "outputs": [
    {
     "name": "stdout",
     "output_type": "stream",
     "text": [
      "<class 'pandas.core.frame.DataFrame'>\n",
      "RangeIndex: 10 entries, 0 to 9\n",
      "Data columns (total 2 columns):\n",
      " #   Column     Non-Null Count  Dtype         \n",
      "---  ------     --------------  -----         \n",
      " 0   timestamp  10 non-null     datetime64[ns]\n",
      " 1   value      10 non-null     float64       \n",
      "dtypes: datetime64[ns](1), float64(1)\n",
      "memory usage: 288.0 bytes\n"
     ]
    }
   ],
   "source": [
    "data.timestamp = data.timestamp.apply(lambda t: datetime.strptime(t, \"%Y-%m-%d %H:%M:%S\"))\n",
    "data.info()"
   ]
  },
  {
   "cell_type": "code",
   "execution_count": 4,
   "metadata": {
    "colab": {
     "base_uri": "https://localhost:8080/",
     "height": 419
    },
    "executionInfo": {
     "elapsed": 260,
     "status": "ok",
     "timestamp": 1636470330754,
     "user": {
      "displayName": "Frédéric Montet",
      "photoUrl": "https://lh3.googleusercontent.com/a-/AOh14GgAyxAKX7KoQcjLBHxEjCcEPfV0sBDCw24p5zq7SQ=s64",
      "userId": "03507225113592138259"
     },
     "user_tz": -60
    },
    "id": "8Hwg3McHO4le",
    "outputId": "2eec9538-3c06-4fed-8fa9-e6bff099924e",
    "scrolled": true
   },
   "outputs": [
    {
     "data": {
      "text/html": [
       "<div>\n",
       "<style scoped>\n",
       "    .dataframe tbody tr th:only-of-type {\n",
       "        vertical-align: middle;\n",
       "    }\n",
       "\n",
       "    .dataframe tbody tr th {\n",
       "        vertical-align: top;\n",
       "    }\n",
       "\n",
       "    .dataframe thead th {\n",
       "        text-align: right;\n",
       "    }\n",
       "</style>\n",
       "<table border=\"1\" class=\"dataframe\">\n",
       "  <thead>\n",
       "    <tr style=\"text-align: right;\">\n",
       "      <th></th>\n",
       "      <th>timestamp</th>\n",
       "      <th>value</th>\n",
       "    </tr>\n",
       "  </thead>\n",
       "  <tbody>\n",
       "    <tr>\n",
       "      <th>0</th>\n",
       "      <td>2016-11-14 23:44:32</td>\n",
       "      <td>1.20</td>\n",
       "    </tr>\n",
       "    <tr>\n",
       "      <th>1</th>\n",
       "      <td>2016-11-14 23:49:34</td>\n",
       "      <td>1.20</td>\n",
       "    </tr>\n",
       "    <tr>\n",
       "      <th>2</th>\n",
       "      <td>2016-11-14 23:54:38</td>\n",
       "      <td>1.28</td>\n",
       "    </tr>\n",
       "    <tr>\n",
       "      <th>3</th>\n",
       "      <td>2016-11-14 23:59:40</td>\n",
       "      <td>1.28</td>\n",
       "    </tr>\n",
       "    <tr>\n",
       "      <th>4</th>\n",
       "      <td>2016-11-15 00:04:42</td>\n",
       "      <td>1.44</td>\n",
       "    </tr>\n",
       "    <tr>\n",
       "      <th>5</th>\n",
       "      <td>2016-11-15 07:38:40</td>\n",
       "      <td>2.08</td>\n",
       "    </tr>\n",
       "    <tr>\n",
       "      <th>6</th>\n",
       "      <td>2016-11-15 07:43:44</td>\n",
       "      <td>2.24</td>\n",
       "    </tr>\n",
       "    <tr>\n",
       "      <th>7</th>\n",
       "      <td>2016-11-15 07:48:46</td>\n",
       "      <td>2.32</td>\n",
       "    </tr>\n",
       "    <tr>\n",
       "      <th>8</th>\n",
       "      <td>2016-11-15 07:53:48</td>\n",
       "      <td>2.40</td>\n",
       "    </tr>\n",
       "    <tr>\n",
       "      <th>9</th>\n",
       "      <td>2016-11-15 07:58:52</td>\n",
       "      <td>2.24</td>\n",
       "    </tr>\n",
       "  </tbody>\n",
       "</table>\n",
       "</div>"
      ],
      "text/plain": [
       "            timestamp  value\n",
       "0 2016-11-14 23:44:32   1.20\n",
       "1 2016-11-14 23:49:34   1.20\n",
       "2 2016-11-14 23:54:38   1.28\n",
       "3 2016-11-14 23:59:40   1.28\n",
       "4 2016-11-15 00:04:42   1.44\n",
       "5 2016-11-15 07:38:40   2.08\n",
       "6 2016-11-15 07:43:44   2.24\n",
       "7 2016-11-15 07:48:46   2.32\n",
       "8 2016-11-15 07:53:48   2.40\n",
       "9 2016-11-15 07:58:52   2.24"
      ]
     },
     "execution_count": 4,
     "metadata": {},
     "output_type": "execute_result"
    }
   ],
   "source": [
    "data"
   ]
  },
  {
   "cell_type": "markdown",
   "metadata": {
    "id": "3lQYnhzKVMUN"
   },
   "source": [
    "Déclarer différentes constantes"
   ]
  },
  {
   "cell_type": "code",
   "execution_count": 5,
   "metadata": {},
   "outputs": [],
   "source": [
    "ENDPOINT = \"http://localhost:8080\"\n",
    "USERNAME = \"admin\"\n",
    "PASSWORD = \"testtest\"\n",
    "USERGROUP = 1 #SUPERADMIN"
   ]
  },
  {
   "cell_type": "code",
   "execution_count": 6,
   "metadata": {},
   "outputs": [
    {
     "name": "stdout",
     "output_type": "stream",
     "text": [
      "{\n",
      "  \"id\" : 8,\n",
      "  \"secret\" : \"ada3af48aeca91924ce4312d9d8c615f\",\n",
      "  \"expirationDate\" : \"2022-01-16T13:28:39.425Z\",\n",
      "  \"userId\" : 1,\n",
      "  \"readOnly\" : false,\n",
      "  \"description\" : \"auto_login\"\n",
      "}\n"
     ]
    }
   ],
   "source": [
    "response = requests.post(ENDPOINT + \"/login\", json = {\"username\": USERNAME,\"password\": PASSWORD})\n",
    "print(response.text)\n",
    "\n",
    "USERID = str(response.json()[\"userId\"])\n",
    "TOKEN = response.json()[\"secret\"]\n",
    "HEADERS = {\"bbuser\" : USERID, \"bbtoken\" : TOKEN}"
   ]
  },
  {
   "cell_type": "code",
   "execution_count": 7,
   "metadata": {},
   "outputs": [
    {
     "name": "stdout",
     "output_type": "stream",
     "text": [
      "{\n",
      "  \"id\" : 4,\n",
      "  \"name\" : \"Jupyter\",\n",
      "  \"description\" : \"Jupyter notebook\",\n",
      "  \"owner\" : {\n",
      "    \"id\" : 1,\n",
      "    \"name\" : \"SUPERADMIN\"\n",
      "  }\n",
      "}\n",
      "\n",
      "\n",
      "\n",
      "{\n",
      "  \"id\" : 13371,\n",
      "  \"name\" : \"Jupyter\",\n",
      "  \"description\" : \"Jupyter notebook\",\n",
      "  \"unit\" : {\n",
      "    \"symbol\" : \"V\",\n",
      "    \"name\" : \"volt\",\n",
      "    \"type\" : \"float\"\n",
      "  },\n",
      "  \"disabled\" : false,\n",
      "  \"creationdate\" : \"2022-01-16T00:28:42.000Z\",\n",
      "  \"owner\" : {\n",
      "    \"id\" : 1,\n",
      "    \"name\" : \"SUPERADMIN\"\n",
      "  },\n",
      "  \"tags\" : [ ]\n",
      "}\n"
     ]
    }
   ],
   "source": [
    "response = requests.put(ENDPOINT + \"/objectGroups\", headers = HEADERS, json = {\"name\": \"Jupyter\",\"description\": \"Jupyter notebook\",\"owner\": USERGROUP})\n",
    "print(response.text)\n",
    "response = requests.put(ENDPOINT + \"/objects\", headers = HEADERS, json = {\n",
    "    \"name\": \"Jupyter\",\n",
    "    \"description\": \"Jupyter notebook\",\n",
    "    \"owner\": USERGROUP,\n",
    "    \"unitSymbol\": \"V\",\n",
    "    \"tags\": []})\n",
    "print(\"\\n\\n\")\n",
    "print(response.text)\n",
    "\n",
    "OBJECT_ID = response.json()[\"id\"]\n",
    "COMMENT = \"\""
   ]
  },
  {
   "cell_type": "code",
   "execution_count": 8,
   "metadata": {},
   "outputs": [
    {
     "name": "stdout",
     "output_type": "stream",
     "text": [
      "{\n",
      "  \"id\" : 6,\n",
      "  \"objectId\" : 13371,\n",
      "  \"token\" : \"2f4e4f93b1f1b223f92e5694144c2198\",\n",
      "  \"description\" : \"Jupyter Notebook\"\n",
      "}\n"
     ]
    }
   ],
   "source": [
    "response = requests.put(ENDPOINT + f\"/objects/{str(OBJECT_ID)}/tokens\", headers= HEADERS, json = {\"description\": \"Jupyter Notebook\"})\n",
    "print(response.text)\n",
    "\n",
    "OBJECT_TOKEN = response.json()[\"token\"]"
   ]
  },
  {
   "cell_type": "markdown",
   "metadata": {
    "id": "rPgZRGU0XpFk"
   },
   "source": [
    "Définition d'une fonction pour convertir une ligne d'un Pandas DataFrame en un objet JSON."
   ]
  },
  {
   "cell_type": "code",
   "execution_count": 9,
   "metadata": {
    "executionInfo": {
     "elapsed": 1,
     "status": "ok",
     "timestamp": 1636470358135,
     "user": {
      "displayName": "Frédéric Montet",
      "photoUrl": "https://lh3.googleusercontent.com/a-/AOh14GgAyxAKX7KoQcjLBHxEjCcEPfV0sBDCw24p5zq7SQ=s64",
      "userId": "03507225113592138259"
     },
     "user_tz": -60
    },
    "id": "gBXEUEgjUMK-"
   },
   "outputs": [],
   "source": [
    "def to_json(obj_data):\n",
    "  return {\"objectId\": OBJECT_ID, \"token\": OBJECT_TOKEN, \"timestamp\": obj_data.timestamp.isoformat(), \"value\": str(obj_data.value), \"comment\": COMMENT}"
   ]
  },
  {
   "cell_type": "markdown",
   "metadata": {
    "id": "K087ZIz0X5Lm"
   },
   "source": [
    "Conversion du DataFrame en array d'objets JSON\n"
   ]
  },
  {
   "cell_type": "code",
   "execution_count": 10,
   "metadata": {
    "executionInfo": {
     "elapsed": 3,
     "status": "ok",
     "timestamp": 1636470359777,
     "user": {
      "displayName": "Frédéric Montet",
      "photoUrl": "https://lh3.googleusercontent.com/a-/AOh14GgAyxAKX7KoQcjLBHxEjCcEPfV0sBDCw24p5zq7SQ=s64",
      "userId": "03507225113592138259"
     },
     "user_tz": -60
    },
    "id": "oYNhhxKJXGnO"
   },
   "outputs": [],
   "source": [
    "json_data = [to_json(d) for _, d in data.iterrows()]"
   ]
  },
  {
   "cell_type": "markdown",
   "metadata": {
    "id": "asuAiMgPYMY3"
   },
   "source": [
    "Envois des données à l'API REST"
   ]
  },
  {
   "cell_type": "code",
   "execution_count": 11,
   "metadata": {
    "executionInfo": {
     "elapsed": 630,
     "status": "ok",
     "timestamp": 1636470361753,
     "user": {
      "displayName": "Frédéric Montet",
      "photoUrl": "https://lh3.googleusercontent.com/a-/AOh14GgAyxAKX7KoQcjLBHxEjCcEPfV0sBDCw24p5zq7SQ=s64",
      "userId": "03507225113592138259"
     },
     "user_tz": -60
    },
    "id": "iUJfC9eYXe0N"
   },
   "outputs": [],
   "source": [
    "response = requests.post(ENDPOINT + \"/objects/values\", json=json_data)"
   ]
  },
  {
   "cell_type": "markdown",
   "metadata": {
    "id": "D6lGYTGongWG"
   },
   "source": [
    "Les données sont maintenant stockées sur BBData"
   ]
  },
  {
   "cell_type": "code",
   "execution_count": 12,
   "metadata": {
    "colab": {
     "base_uri": "https://localhost:8080/"
    },
    "executionInfo": {
     "elapsed": 241,
     "status": "ok",
     "timestamp": 1636470364063,
     "user": {
      "displayName": "Frédéric Montet",
      "photoUrl": "https://lh3.googleusercontent.com/a-/AOh14GgAyxAKX7KoQcjLBHxEjCcEPfV0sBDCw24p5zq7SQ=s64",
      "userId": "03507225113592138259"
     },
     "user_tz": -60
    },
    "id": "bovSKGQsZMGw",
    "outputId": "e904d3dd-b96a-400b-ec32-14e801a6189f"
   },
   "outputs": [
    {
     "name": "stdout",
     "output_type": "stream",
     "text": [
      "[ {\n",
      "  \"objectId\" : 13371,\n",
      "  \"timestamp\" : \"2016-11-14T23:44:32.000Z\",\n",
      "  \"value\" : \"1.2\",\n",
      "  \"comment\" : \"\",\n",
      "  \"unitName\" : \"volt\",\n",
      "  \"unitSymbol\" : \"V\",\n",
      "  \"type\" : \"float\",\n",
      "  \"owner\" : 1\n",
      "}, {\n",
      "  \"objectId\" : 13371,\n",
      "  \"timestamp\" : \"2016-11-14T23:49:34.000Z\",\n",
      "  \"value\" : \"1.2\",\n",
      "  \"comment\" : \"\",\n",
      "  \"unitName\" : \"volt\",\n",
      "  \"unitSymbol\" : \"V\",\n",
      "  \"type\" : \"float\",\n",
      "  \"owner\" : 1\n",
      "}, {\n",
      "  \"objectId\" : 13371,\n",
      "  \"timestamp\" : \"2016-11-14T23:54:38.000Z\",\n",
      "  \"value\" : \"1.28\",\n",
      "  \"comment\" : \"\",\n",
      "  \"unitName\" : \"volt\",\n",
      "  \"unitSymbol\" : \"V\",\n",
      "  \"type\" : \"float\",\n",
      "  \"owner\" : 1\n",
      "}, {\n",
      "  \"objectId\" : 13371,\n",
      "  \"timestamp\" : \"2016-11-14T23:59:40.000Z\",\n",
      "  \"value\" : \"1.28\",\n",
      "  \"comment\" : \"\",\n",
      "  \"unitName\" : \"volt\",\n",
      "  \"unitSymbol\" : \"V\",\n",
      "  \"type\" : \"float\",\n",
      "  \"owner\" : 1\n",
      "}, {\n",
      "  \"objectId\" : 13371,\n",
      "  \"timestamp\" : \"2016-11-15T00:04:42.000Z\",\n",
      "  \"value\" : \"1.44\",\n",
      "  \"comment\" : \"\",\n",
      "  \"unitName\" : \"volt\",\n",
      "  \"unitSymbol\" : \"V\",\n",
      "  \"type\" : \"float\",\n",
      "  \"owner\" : 1\n",
      "}, {\n",
      "  \"objectId\" : 13371,\n",
      "  \"timestamp\" : \"2016-11-15T07:38:40.000Z\",\n",
      "  \"value\" : \"2.08\",\n",
      "  \"comment\" : \"\",\n",
      "  \"unitName\" : \"volt\",\n",
      "  \"unitSymbol\" : \"V\",\n",
      "  \"type\" : \"float\",\n",
      "  \"owner\" : 1\n",
      "}, {\n",
      "  \"objectId\" : 13371,\n",
      "  \"timestamp\" : \"2016-11-15T07:43:44.000Z\",\n",
      "  \"value\" : \"2.24\",\n",
      "  \"comment\" : \"\",\n",
      "  \"unitName\" : \"volt\",\n",
      "  \"unitSymbol\" : \"V\",\n",
      "  \"type\" : \"float\",\n",
      "  \"owner\" : 1\n",
      "}, {\n",
      "  \"objectId\" : 13371,\n",
      "  \"timestamp\" : \"2016-11-15T07:48:46.000Z\",\n",
      "  \"value\" : \"2.32\",\n",
      "  \"comment\" : \"\",\n",
      "  \"unitName\" : \"volt\",\n",
      "  \"unitSymbol\" : \"V\",\n",
      "  \"type\" : \"float\",\n",
      "  \"owner\" : 1\n",
      "}, {\n",
      "  \"objectId\" : 13371,\n",
      "  \"timestamp\" : \"2016-11-15T07:53:48.000Z\",\n",
      "  \"value\" : \"2.4\",\n",
      "  \"comment\" : \"\",\n",
      "  \"unitName\" : \"volt\",\n",
      "  \"unitSymbol\" : \"V\",\n",
      "  \"type\" : \"float\",\n",
      "  \"owner\" : 1\n",
      "}, {\n",
      "  \"objectId\" : 13371,\n",
      "  \"timestamp\" : \"2016-11-15T07:58:52.000Z\",\n",
      "  \"value\" : \"2.24\",\n",
      "  \"comment\" : \"\",\n",
      "  \"unitName\" : \"volt\",\n",
      "  \"unitSymbol\" : \"V\",\n",
      "  \"type\" : \"float\",\n",
      "  \"owner\" : 1\n",
      "} ]\n"
     ]
    }
   ],
   "source": [
    "print(response.text)"
   ]
  },
  {
   "cell_type": "markdown",
   "metadata": {
    "id": "MMvTihoOnnw5"
   },
   "source": [
    "## Récuperer des données\n",
    "\n",
    "Mettre de la donnée sur la plateforme permet d'assurer sa pérénité mais il s'agit aussi d'utiliser ces données. Pour cela, le processus est le suivant:\n",
    "\n"
   ]
  },
  {
   "cell_type": "markdown",
   "metadata": {
    "id": "0EM1BtDHy19C"
   },
   "source": [
    "1. Se loguer"
   ]
  },
  {
   "cell_type": "code",
   "execution_count": 13,
   "metadata": {
    "executionInfo": {
     "elapsed": 2,
     "status": "ok",
     "timestamp": 1636470391842,
     "user": {
      "displayName": "Frédéric Montet",
      "photoUrl": "https://lh3.googleusercontent.com/a-/AOh14GgAyxAKX7KoQcjLBHxEjCcEPfV0sBDCw24p5zq7SQ=s64",
      "userId": "03507225113592138259"
     },
     "user_tz": -60
    },
    "id": "kn59shLlv3__"
   },
   "outputs": [],
   "source": [
    "creds = {\"username\": USERNAME, \"password\": PASSWORD}"
   ]
  },
  {
   "cell_type": "code",
   "execution_count": 14,
   "metadata": {
    "colab": {
     "base_uri": "https://localhost:8080/"
    },
    "executionInfo": {
     "elapsed": 627,
     "status": "ok",
     "timestamp": 1636470393593,
     "user": {
      "displayName": "Frédéric Montet",
      "photoUrl": "https://lh3.googleusercontent.com/a-/AOh14GgAyxAKX7KoQcjLBHxEjCcEPfV0sBDCw24p5zq7SQ=s64",
      "userId": "03507225113592138259"
     },
     "user_tz": -60
    },
    "id": "-hLpurAxocCA",
    "outputId": "d25dcc69-cef2-46ea-a73d-718c5ab47c93"
   },
   "outputs": [
    {
     "data": {
      "text/plain": [
       "{'id': 9,\n",
       " 'secret': '33b82f5cf6685fb7fe6c83f057fdd61e',\n",
       " 'expirationDate': '2022-01-16T13:28:54.798Z',\n",
       " 'userId': 1,\n",
       " 'readOnly': False,\n",
       " 'description': 'auto_login'}"
      ]
     },
     "execution_count": 14,
     "metadata": {},
     "output_type": "execute_result"
    }
   ],
   "source": [
    "response = requests.post(ENDPOINT + \"/login\", json=creds)\n",
    "response.json()"
   ]
  },
  {
   "cell_type": "markdown",
   "metadata": {
    "id": "u2ospv-py8ve"
   },
   "source": [
    "2. Copier son API key"
   ]
  },
  {
   "cell_type": "code",
   "execution_count": 15,
   "metadata": {
    "executionInfo": {
     "elapsed": 242,
     "status": "ok",
     "timestamp": 1636470397616,
     "user": {
      "displayName": "Frédéric Montet",
      "photoUrl": "https://lh3.googleusercontent.com/a-/AOh14GgAyxAKX7KoQcjLBHxEjCcEPfV0sBDCw24p5zq7SQ=s64",
      "userId": "03507225113592138259"
     },
     "user_tz": -60
    },
    "id": "XYjtmvYXyV5Y"
   },
   "outputs": [],
   "source": [
    "# /!\\ both parameters must be strings!\n",
    "\n",
    "USER_ID = str(response.json()[\"userId\"])\n",
    "API_KEY = str(response.json()[\"secret\"])\n",
    "\n",
    "headers = {\n",
    "    'bbuser' : USER_ID,\n",
    "    'bbtoken' :  API_KEY\n",
    "}"
   ]
  },
  {
   "cell_type": "code",
   "execution_count": 16,
   "metadata": {
    "colab": {
     "base_uri": "https://localhost:8080/"
    },
    "executionInfo": {
     "elapsed": 773,
     "status": "ok",
     "timestamp": 1636470425205,
     "user": {
      "displayName": "Frédéric Montet",
      "photoUrl": "https://lh3.googleusercontent.com/a-/AOh14GgAyxAKX7KoQcjLBHxEjCcEPfV0sBDCw24p5zq7SQ=s64",
      "userId": "03507225113592138259"
     },
     "user_tz": -60
    },
    "id": "-A34bFra26Zy",
    "outputId": "78a51812-462d-4507-dbc9-e0239b7fb9ac"
   },
   "outputs": [
    {
     "data": {
      "text/plain": [
       "{'id': 1, 'name': 'admin', 'creationdate': '2022-01-16T00:23:06.000Z'}"
      ]
     },
     "execution_count": 16,
     "metadata": {},
     "output_type": "execute_result"
    }
   ],
   "source": [
    "response = requests.get(ENDPOINT + \"/me\", headers=headers)\n",
    "response.json()"
   ]
  },
  {
   "cell_type": "markdown",
   "metadata": {
    "id": "aWN0eGr1zABO"
   },
   "source": [
    "3. Récuperer ses données"
   ]
  },
  {
   "cell_type": "code",
   "execution_count": 17,
   "metadata": {
    "colab": {
     "base_uri": "https://localhost:8080/"
    },
    "executionInfo": {
     "elapsed": 662,
     "status": "ok",
     "timestamp": 1636470426415,
     "user": {
      "displayName": "Frédéric Montet",
      "photoUrl": "https://lh3.googleusercontent.com/a-/AOh14GgAyxAKX7KoQcjLBHxEjCcEPfV0sBDCw24p5zq7SQ=s64",
      "userId": "03507225113592138259"
     },
     "user_tz": -60
    },
    "id": "cFhOpWB15IWd",
    "outputId": "2f8b9f75-cada-45c9-84ce-ad042da869e4"
   },
   "outputs": [
    {
     "data": {
      "text/plain": [
       "[{'objectId': 13371,\n",
       "  'timestamp': '2016-11-14T23:44:32.000Z',\n",
       "  'value': '1.2',\n",
       "  'comment': ''},\n",
       " {'objectId': 13371,\n",
       "  'timestamp': '2016-11-14T23:49:34.000Z',\n",
       "  'value': '1.2',\n",
       "  'comment': ''},\n",
       " {'objectId': 13371,\n",
       "  'timestamp': '2016-11-14T23:54:38.000Z',\n",
       "  'value': '1.28',\n",
       "  'comment': ''},\n",
       " {'objectId': 13371,\n",
       "  'timestamp': '2016-11-14T23:59:40.000Z',\n",
       "  'value': '1.28',\n",
       "  'comment': ''},\n",
       " {'objectId': 13371,\n",
       "  'timestamp': '2016-11-15T00:04:42.000Z',\n",
       "  'value': '1.44',\n",
       "  'comment': ''},\n",
       " {'objectId': 13371,\n",
       "  'timestamp': '2016-11-15T07:38:40.000Z',\n",
       "  'value': '2.08',\n",
       "  'comment': ''},\n",
       " {'objectId': 13371,\n",
       "  'timestamp': '2016-11-15T07:43:44.000Z',\n",
       "  'value': '2.24',\n",
       "  'comment': ''},\n",
       " {'objectId': 13371,\n",
       "  'timestamp': '2016-11-15T07:48:46.000Z',\n",
       "  'value': '2.32',\n",
       "  'comment': ''},\n",
       " {'objectId': 13371,\n",
       "  'timestamp': '2016-11-15T07:53:48.000Z',\n",
       "  'value': '2.4',\n",
       "  'comment': ''},\n",
       " {'objectId': 13371,\n",
       "  'timestamp': '2016-11-15T07:58:52.000Z',\n",
       "  'value': '2.24',\n",
       "  'comment': ''}]"
      ]
     },
     "execution_count": 17,
     "metadata": {},
     "output_type": "execute_result"
    }
   ],
   "source": [
    "# ⚠️ les timestamps sont en UTC ISO-8601\n",
    "from_timestamp = \"2016-01-01T00:00:00.000Z\"\n",
    "to_timestamp = \"2016-12-01T00:00:00.000Z\"\n",
    "\n",
    "response = requests.get(ENDPOINT + f\"/objects/{OBJECT_ID}/values?from={from_timestamp}&to={to_timestamp}\", headers=headers)\n",
    "response.json()"
   ]
  },
  {
   "cell_type": "code",
   "execution_count": 18,
   "metadata": {
    "id": "Yx-9hpiaolM3"
   },
   "outputs": [],
   "source": [
    "df = pd.DataFrame(response.json())\n",
    "df['timestamp'] = pd.to_datetime(df['timestamp'])\n",
    "df = df.astype({'value': 'float64'})\n",
    "df = df.set_index(\"timestamp\")"
   ]
  },
  {
   "cell_type": "code",
   "execution_count": 19,
   "metadata": {
    "colab": {
     "base_uri": "https://localhost:8080/",
     "height": 298
    },
    "executionInfo": {
     "elapsed": 763,
     "status": "ok",
     "timestamp": 1612342486101,
     "user": {
      "displayName": "Frédéric Montet",
      "photoUrl": "https://lh3.googleusercontent.com/a-/AOh14GgAyxAKX7KoQcjLBHxEjCcEPfV0sBDCw24p5zq7SQ=s64",
      "userId": "03507225113592138259"
     },
     "user_tz": -60
    },
    "id": "5qJsR6KEGOLx",
    "outputId": "07f908c9-8fea-46a3-f171-c858bc839fa2",
    "scrolled": true
   },
   "outputs": [
    {
     "data": {
      "text/plain": [
       "<AxesSubplot:xlabel='timestamp'>"
      ]
     },
     "execution_count": 19,
     "metadata": {},
     "output_type": "execute_result"
    },
    {
     "data": {
      "image/png": "[encoded data removed]",
      "text/plain": [
       "<Figure size 432x288 with 1 Axes>"
      ]
     },
     "metadata": {
      "needs_background": "light"
     },
     "output_type": "display_data"
    }
   ],
   "source": [
    "df[\"2016-11-15\":\"2016-11-16\"][\"value\"].plot()"
   ]
  },
  {
   "cell_type": "markdown",
   "metadata": {
    "id": "dfqpAfKc9ZAp"
   },
   "source": [
    "Done!\n",
    "\n",
    "Avec ça, vous êtes prêt pour stocker et récuperer les données de n'importe quel capteur!\n",
    "\n",
    "Si vous avez des questions n'hésitez pas à contacter :\n",
    "\n",
    "- Frédéric Montet (frederic.montet@hefr.ch)\n",
    "- Jonathan Rial (jonathan.rial@hefr.ch)\n"
   ]
  }
 ],
 "metadata": {
  "colab": {
   "collapsed_sections": [],
   "name": "bbdata-workshop.ipynb",
   "provenance": [
    {
     "file_id": "1JNdFrfGEi8gTQbOx8emzTNk_INxrQtqj",
     "timestamp": 1604438409861
    }
   ],
   "toc_visible": true
  },
  "kernelspec": {
   "display_name": "Python 3 (ipykernel)",
   "language": "python",
   "name": "python3"
  },
  "language_info": {
   "codemirror_mode": {
    "name": "ipython",
    "version": 3
   },
   "file_extension": ".py",
   "mimetype": "text/x-python",
   "name": "python",
   "nbconvert_exporter": "python",
   "pygments_lexer": "ipython3",
   "version": "3.9.9"
  }
 },
 "nbformat": 4,
 "nbformat_minor": 1
}
